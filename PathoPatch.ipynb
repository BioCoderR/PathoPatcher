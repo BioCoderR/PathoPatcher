{
  "cells": [
    {
      "cell_type": "markdown",
      "metadata": {
        "colab_type": "text",
        "id": "view-in-github"
      },
      "source": [
        "<a href=\"https://colab.research.google.com/github/TIO-IKIM/PathoPatcher/blob/main/PathoPatch.ipynb\" target=\"_parent\"><img src=\"https://colab.research.google.com/assets/colab-badge.svg\" alt=\"Open In Colab\"/></a>"
      ]
    },
    {
      "cell_type": "markdown",
      "metadata": {
        "id": "GA0VTVQzkmEJ"
      },
      "source": [
        "# PathoPatch Example\n"
      ]
    },
    {
      "cell_type": "markdown",
      "metadata": {
        "id": "chE1_Uyxk4Lt"
      },
      "source": [
        "### 1. Installation (OpenSlide, CuCIM, PathoPatch)"
      ]
    },
    {
      "cell_type": "code",
      "execution_count": 1,
      "metadata": {
        "colab": {
          "base_uri": "https://localhost:8080/"
        },
        "id": "syrpNbj1jYDH",
        "outputId": "3aab3f77-360c-4537-a341-22e57bda0d4a"
      },
      "outputs": [
        {
          "name": "stdout",
          "output_type": "stream",
          "text": [
            "\u001b[33m\r0% [Working]\u001b[0m\r            \rHit:1 https://cloud.r-project.org/bin/linux/ubuntu jammy-cran40/ InRelease\n",
            "Hit:2 https://developer.download.nvidia.com/compute/cuda/repos/ubuntu2204/x86_64  InRelease\n",
            "Hit:3 http://security.ubuntu.com/ubuntu jammy-security InRelease\n",
            "Hit:4 http://archive.ubuntu.com/ubuntu jammy InRelease\n",
            "Hit:5 http://archive.ubuntu.com/ubuntu jammy-updates InRelease\n",
            "Hit:6 http://archive.ubuntu.com/ubuntu jammy-backports InRelease\n",
            "Hit:7 https://ppa.launchpadcontent.net/c2d4u.team/c2d4u4.0+/ubuntu jammy InRelease\n",
            "Hit:8 https://ppa.launchpadcontent.net/deadsnakes/ppa/ubuntu jammy InRelease\n",
            "Hit:9 https://ppa.launchpadcontent.net/graphics-drivers/ppa/ubuntu jammy InRelease\n",
            "Hit:10 https://ppa.launchpadcontent.net/ubuntugis/ppa/ubuntu jammy InRelease\n",
            "Reading package lists... Done\n",
            "Building dependency tree... Done\n",
            "Reading state information... Done\n",
            "39 packages can be upgraded. Run 'apt list --upgradable' to see them.\n",
            "Reading package lists... Done\n",
            "Building dependency tree... Done\n",
            "Reading state information... Done\n",
            "openslide-tools is already the newest version (3.4.1+dfsg-5build1).\n",
            "0 upgraded, 0 newly installed, 0 to remove and 39 not upgraded.\n"
          ]
        }
      ],
      "source": [
        "!apt update && apt install -y openslide-tools"
      ]
    },
    {
      "cell_type": "code",
      "execution_count": 2,
      "metadata": {
        "colab": {
          "base_uri": "https://localhost:8080/"
        },
        "id": "WkCsLuQAj41e",
        "outputId": "796bb818-c29c-4a22-df88-9eecebc897ff"
      },
      "outputs": [
        {
          "name": "stdout",
          "output_type": "stream",
          "text": [
            "Requirement already satisfied: openslide-python in /usr/local/lib/python3.10/site-packages (1.3.1)\n",
            "Requirement already satisfied: pathopatch in /usr/local/lib/python3.10/site-packages (0.9.5.1b0)\n",
            "Requirement already satisfied: Pillow in /usr/local/lib/python3.10/site-packages (from openslide-python) (10.2.0)\n",
            "Requirement already satisfied: PyYAML in /usr/local/lib/python3.10/site-packages (from pathopatch) (6.0.1)\n",
            "Requirement already satisfied: Shapely==1.8.5.post1 in /usr/local/lib/python3.10/site-packages (from pathopatch) (1.8.5.post1)\n",
            "Requirement already satisfied: colorama in /usr/local/lib/python3.10/site-packages (from pathopatch) (0.4.6)\n",
            "Requirement already satisfied: future in /usr/local/lib/python3.10/site-packages (from pathopatch) (1.0.0)\n",
            "Requirement already satisfied: geojson>=3.0.0 in /usr/local/lib/python3.10/site-packages (from pathopatch) (3.1.0)\n",
            "Requirement already satisfied: matplotlib in /usr/local/lib/python3.10/site-packages (from pathopatch) (3.8.3)\n",
            "Requirement already satisfied: natsort in /usr/local/lib/python3.10/site-packages (from pathopatch) (8.4.0)\n",
            "Requirement already satisfied: numpy<1.24,>1.22 in /usr/local/lib/python3.10/site-packages (from pathopatch) (1.23.5)\n",
            "Requirement already satisfied: opencv-python-headless in /usr/local/lib/python3.10/site-packages (from pathopatch) (4.9.0.80)\n",
            "Requirement already satisfied: pandas in /usr/local/lib/python3.10/site-packages (from pathopatch) (2.2.1)\n",
            "Requirement already satisfied: pydantic==1.10.4 in /usr/local/lib/python3.10/site-packages (from pathopatch) (1.10.4)\n",
            "Requirement already satisfied: rasterio==1.3.5.post1 in /usr/local/lib/python3.10/site-packages (from pathopatch) (1.3.5.post1)\n",
            "Requirement already satisfied: requests in /usr/local/lib/python3.10/site-packages (from pathopatch) (2.31.0)\n",
            "Requirement already satisfied: scikit-image in /usr/local/lib/python3.10/site-packages (from pathopatch) (0.22.0)\n",
            "Requirement already satisfied: setuptools<=65.6.3 in /usr/local/lib/python3.10/site-packages (from pathopatch) (65.6.3)\n",
            "Requirement already satisfied: tqdm in /usr/local/lib/python3.10/site-packages (from pathopatch) (4.66.1)\n",
            "Requirement already satisfied: torchvision in /usr/local/lib/python3.10/site-packages (from pathopatch) (0.17.1)\n",
            "Requirement already satisfied: torch in /usr/local/lib/python3.10/site-packages (from pathopatch) (2.2.1)\n",
            "Requirement already satisfied: typing-extensions>=4.2.0 in /usr/local/lib/python3.10/site-packages (from pydantic==1.10.4->pathopatch) (4.10.0)\n",
            "Requirement already satisfied: affine in /usr/local/lib/python3.10/site-packages (from rasterio==1.3.5.post1->pathopatch) (2.4.0)\n",
            "Requirement already satisfied: attrs in /usr/local/lib/python3.10/site-packages (from rasterio==1.3.5.post1->pathopatch) (23.2.0)\n",
            "Requirement already satisfied: certifi in /usr/local/lib/python3.10/site-packages (from rasterio==1.3.5.post1->pathopatch) (2023.11.17)\n",
            "Requirement already satisfied: click>=4.0 in /usr/local/lib/python3.10/site-packages (from rasterio==1.3.5.post1->pathopatch) (8.1.7)\n",
            "Requirement already satisfied: cligj>=0.5 in /usr/local/lib/python3.10/site-packages (from rasterio==1.3.5.post1->pathopatch) (0.7.2)\n",
            "Requirement already satisfied: snuggs>=1.4.1 in /usr/local/lib/python3.10/site-packages (from rasterio==1.3.5.post1->pathopatch) (1.4.7)\n",
            "Requirement already satisfied: click-plugins in /usr/local/lib/python3.10/site-packages (from rasterio==1.3.5.post1->pathopatch) (1.1.1)\n",
            "Requirement already satisfied: contourpy>=1.0.1 in /usr/local/lib/python3.10/site-packages (from matplotlib->pathopatch) (1.2.0)\n",
            "Requirement already satisfied: cycler>=0.10 in /usr/local/lib/python3.10/site-packages (from matplotlib->pathopatch) (0.12.1)\n",
            "Requirement already satisfied: fonttools>=4.22.0 in /usr/local/lib/python3.10/site-packages (from matplotlib->pathopatch) (4.50.0)\n",
            "Requirement already satisfied: kiwisolver>=1.3.1 in /usr/local/lib/python3.10/site-packages (from matplotlib->pathopatch) (1.4.5)\n",
            "Requirement already satisfied: packaging>=20.0 in /usr/local/lib/python3.10/site-packages (from matplotlib->pathopatch) (23.2)\n",
            "Requirement already satisfied: pyparsing>=2.3.1 in /usr/local/lib/python3.10/site-packages (from matplotlib->pathopatch) (3.1.2)\n",
            "Requirement already satisfied: python-dateutil>=2.7 in /usr/local/lib/python3.10/site-packages (from matplotlib->pathopatch) (2.9.0.post0)\n",
            "Requirement already satisfied: pytz>=2020.1 in /usr/local/lib/python3.10/site-packages (from pandas->pathopatch) (2024.1)\n",
            "Requirement already satisfied: tzdata>=2022.7 in /usr/local/lib/python3.10/site-packages (from pandas->pathopatch) (2024.1)\n",
            "Requirement already satisfied: charset-normalizer<4,>=2 in /usr/local/lib/python3.10/site-packages (from requests->pathopatch) (3.3.2)\n",
            "Requirement already satisfied: idna<4,>=2.5 in /usr/local/lib/python3.10/site-packages (from requests->pathopatch) (3.6)\n",
            "Requirement already satisfied: urllib3<3,>=1.21.1 in /usr/local/lib/python3.10/site-packages (from requests->pathopatch) (2.1.0)\n",
            "Requirement already satisfied: scipy>=1.8 in /usr/local/lib/python3.10/site-packages (from scikit-image->pathopatch) (1.12.0)\n",
            "Requirement already satisfied: networkx>=2.8 in /usr/local/lib/python3.10/site-packages (from scikit-image->pathopatch) (3.2.1)\n",
            "Requirement already satisfied: imageio>=2.27 in /usr/local/lib/python3.10/site-packages (from scikit-image->pathopatch) (2.34.0)\n",
            "Requirement already satisfied: tifffile>=2022.8.12 in /usr/local/lib/python3.10/site-packages (from scikit-image->pathopatch) (2024.2.12)\n",
            "Requirement already satisfied: lazy_loader>=0.3 in /usr/local/lib/python3.10/site-packages (from scikit-image->pathopatch) (0.3)\n",
            "Requirement already satisfied: filelock in /usr/local/lib/python3.10/site-packages (from torch->pathopatch) (3.13.3)\n",
            "Requirement already satisfied: sympy in /usr/local/lib/python3.10/site-packages (from torch->pathopatch) (1.12)\n",
            "Requirement already satisfied: jinja2 in /usr/local/lib/python3.10/site-packages (from torch->pathopatch) (3.1.3)\n",
            "Requirement already satisfied: fsspec in /usr/local/lib/python3.10/site-packages (from torch->pathopatch) (2024.3.1)\n",
            "Requirement already satisfied: nvidia-cuda-nvrtc-cu12==12.1.105 in /usr/local/lib/python3.10/site-packages (from torch->pathopatch) (12.1.105)\n",
            "Requirement already satisfied: nvidia-cuda-runtime-cu12==12.1.105 in /usr/local/lib/python3.10/site-packages (from torch->pathopatch) (12.1.105)\n",
            "Requirement already satisfied: nvidia-cuda-cupti-cu12==12.1.105 in /usr/local/lib/python3.10/site-packages (from torch->pathopatch) (12.1.105)\n",
            "Requirement already satisfied: nvidia-cudnn-cu12==8.9.2.26 in /usr/local/lib/python3.10/site-packages (from torch->pathopatch) (8.9.2.26)\n",
            "Requirement already satisfied: nvidia-cublas-cu12==12.1.3.1 in /usr/local/lib/python3.10/site-packages (from torch->pathopatch) (12.1.3.1)\n",
            "Requirement already satisfied: nvidia-cufft-cu12==11.0.2.54 in /usr/local/lib/python3.10/site-packages (from torch->pathopatch) (11.0.2.54)\n",
            "Requirement already satisfied: nvidia-curand-cu12==10.3.2.106 in /usr/local/lib/python3.10/site-packages (from torch->pathopatch) (10.3.2.106)\n",
            "Requirement already satisfied: nvidia-cusolver-cu12==11.4.5.107 in /usr/local/lib/python3.10/site-packages (from torch->pathopatch) (11.4.5.107)\n",
            "Requirement already satisfied: nvidia-cusparse-cu12==12.1.0.106 in /usr/local/lib/python3.10/site-packages (from torch->pathopatch) (12.1.0.106)\n",
            "Requirement already satisfied: nvidia-nccl-cu12==2.19.3 in /usr/local/lib/python3.10/site-packages (from torch->pathopatch) (2.19.3)\n",
            "Requirement already satisfied: nvidia-nvtx-cu12==12.1.105 in /usr/local/lib/python3.10/site-packages (from torch->pathopatch) (12.1.105)\n",
            "Requirement already satisfied: triton==2.2.0 in /usr/local/lib/python3.10/site-packages (from torch->pathopatch) (2.2.0)\n",
            "Requirement already satisfied: nvidia-nvjitlink-cu12 in /usr/local/lib/python3.10/site-packages (from nvidia-cusolver-cu12==11.4.5.107->torch->pathopatch) (12.4.99)\n",
            "Requirement already satisfied: six>=1.5 in /usr/local/lib/python3.10/site-packages (from python-dateutil>=2.7->matplotlib->pathopatch) (1.16.0)\n",
            "Requirement already satisfied: MarkupSafe>=2.0 in /usr/local/lib/python3.10/site-packages (from jinja2->torch->pathopatch) (2.1.5)\n",
            "Requirement already satisfied: mpmath>=0.19 in /usr/local/lib/python3.10/site-packages (from sympy->torch->pathopatch) (1.3.0)\n",
            "\u001b[33mWARNING: Running pip as the 'root' user can result in broken permissions and conflicting behaviour with the system package manager. It is recommended to use a virtual environment instead: https://pip.pypa.io/warnings/venv\u001b[0m\u001b[33m\n",
            "\u001b[0m"
          ]
        }
      ],
      "source": [
        "!pip install openslide-python pathopatch"
      ]
    },
    {
      "cell_type": "code",
      "execution_count": 3,
      "metadata": {
        "colab": {
          "base_uri": "https://localhost:8080/"
        },
        "id": "xdsM1hLnkC1D",
        "outputId": "e9209dc9-7de8-44dc-b0a2-64fa1c355ec5"
      },
      "outputs": [
        {
          "name": "stdout",
          "output_type": "stream",
          "text": [
            "Collecting cucim\n",
            "  Downloading cucim-23.10.0-py3-none-manylinux2014_x86_64.manylinux_2_17_x86_64.whl.metadata (43 kB)\n",
            "\u001b[?25l     \u001b[90m━━━━━━━━━━━━━━━━━━━━━━━━━━━━━━━━━━━━━━━━\u001b[0m \u001b[32m0.0/43.1 kB\u001b[0m \u001b[31m?\u001b[0m eta \u001b[36m-:--:--\u001b[0m\r\u001b[2K     \u001b[90m━━━━━━━━━━━━━━━━━━━━━━━━━━━━━━━━━━━━━━━━\u001b[0m \u001b[32m43.1/43.1 kB\u001b[0m \u001b[31m1.7 MB/s\u001b[0m eta \u001b[36m0:00:00\u001b[0m\n",
            "\u001b[?25hRequirement already satisfied: click in /usr/local/lib/python3.10/site-packages (from cucim) (8.1.7)\n",
            "Requirement already satisfied: numpy in /usr/local/lib/python3.10/site-packages (from cucim) (1.23.5)\n",
            "Requirement already satisfied: lazy-loader>=0.1 in /usr/local/lib/python3.10/site-packages (from cucim) (0.3)\n",
            "Downloading cucim-23.10.0-py3-none-manylinux2014_x86_64.manylinux_2_17_x86_64.whl (9.7 MB)\n",
            "\u001b[2K   \u001b[90m━━━━━━━━━━━━━━━━━━━━━━━━━━━━━━━━━━━━━━━━\u001b[0m \u001b[32m9.7/9.7 MB\u001b[0m \u001b[31m2.8 MB/s\u001b[0m eta \u001b[36m0:00:00\u001b[0m\n",
            "\u001b[?25hInstalling collected packages: cucim\n",
            "Successfully installed cucim-23.10.0\n",
            "\u001b[33mWARNING: Running pip as the 'root' user can result in broken permissions and conflicting behaviour with the system package manager. It is recommended to use a virtual environment instead: https://pip.pypa.io/warnings/venv\u001b[0m\u001b[33m\n",
            "\u001b[0m"
          ]
        }
      ],
      "source": [
        "!pip install cucim"
      ]
    },
    {
      "cell_type": "markdown",
      "metadata": {
        "id": "MNTTsbCblo-Q"
      },
      "source": [
        "## 2. Download files"
      ]
    },
    {
      "cell_type": "code",
      "execution_count": null,
      "metadata": {
        "colab": {
          "base_uri": "https://localhost:8080/"
        },
        "id": "ldwjSWvYmbic",
        "outputId": "4f3994ce-6486-4c7b-9821-f767fcc98720"
      },
      "outputs": [
        {
          "name": "stdout",
          "output_type": "stream",
          "text": [
            "mkdir: cannot create directory ‘wsi_data’: File exists\n",
            "--2024-03-26 21:12:26--  https://openslide.cs.cmu.edu/download/openslide-testdata/Aperio/CMU-1-Small-Region.svs\n",
            "Resolving openslide.cs.cmu.edu (openslide.cs.cmu.edu)... 128.2.209.93\n",
            "Connecting to openslide.cs.cmu.edu (openslide.cs.cmu.edu)|128.2.209.93|:443... connected.\n",
            "HTTP request sent, awaiting response... 200 OK\n",
            "Length: 1938955 (1.8M) [image/tiff]\n",
            "Saving to: ‘./wsi_data/CMU-1-Small-Region.svs.1’\n",
            "\n",
            "CMU-1-Small-Region. 100%[===================>]   1.85M   478KB/s    in 4.4s    \n",
            "\n",
            "2024-03-26 21:12:32 (427 KB/s) - ‘./wsi_data/CMU-1-Small-Region.svs.1’ saved [1938955/1938955]\n",
            "\n",
            "--2024-03-26 21:12:32--  https://openslide.cs.cmu.edu/download/openslide-testdata/Aperio/CMU-1.svs\n",
            "Resolving openslide.cs.cmu.edu (openslide.cs.cmu.edu)... 128.2.209.93\n",
            "Connecting to openslide.cs.cmu.edu (openslide.cs.cmu.edu)|128.2.209.93|:443... connected.\n",
            "HTTP request sent, awaiting response... 200 OK\n",
            "Length: 177552579 (169M) [image/tiff]\n",
            "Saving to: ‘./wsi_data/CMU-1.svs’\n",
            "\n",
            "CMU-1.svs            36%[======>             ]  61.51M   457KB/s    eta 2m 52s "
          ]
        }
      ],
      "source": [
        "!mkdir wsi_data\n",
        "!wget --directory-prefix ./wsi_data https://openslide.cs.cmu.edu/download/openslide-testdata/Aperio/CMU-1-Small-Region.svs\n",
        "!wget --directory-prefix ./wsi_data https://openslide.cs.cmu.edu/download/openslide-testdata/Aperio/CMU-1.svs"
      ]
    },
    {
      "cell_type": "code",
      "execution_count": null,
      "metadata": {
        "id": "6smBlRYcmgPQ"
      },
      "outputs": [],
      "source": []
    },
    {
      "cell_type": "markdown",
      "metadata": {},
      "source": [
        "DICOM-Files:\n",
        "\n",
        "whole folder must be provided, please use the wsi_extension .dcm for loading wsi, or provide a .csv file as a filelist with path to the dicom folder"
      ]
    }
  ],
  "metadata": {
    "colab": {
      "authorship_tag": "ABX9TyOSg5Tomy2ythze0d941UHb",
      "include_colab_link": true,
      "provenance": []
    },
    "kernelspec": {
      "display_name": "Python 3",
      "name": "python3"
    },
    "language_info": {
      "name": "python"
    }
  },
  "nbformat": 4,
  "nbformat_minor": 0
}
